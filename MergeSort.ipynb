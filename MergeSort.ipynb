{
 "cells": [
  {
   "cell_type": "code",
   "execution_count": 1,
   "metadata": {},
   "outputs": [
    {
     "name": "stdout",
     "output_type": "stream",
     "text": [
      "[1, 10, 12, 67]\n"
     ]
    }
   ],
   "source": [
    "def merge_sort(a,b):\n",
    "    sorted_list=[]\n",
    "    len_a=len(a)\n",
    "    len_b=len(b)\n",
    "    i=j=0\n",
    "    while i<len_a and j<len_b:\n",
    "        if a[i]<=b[j]:\n",
    "            sorted_list.append(a[i])\n",
    "            i+=1\n",
    "        else:\n",
    "            sorted_list.append(b[j])\n",
    "            j+=1\n",
    "    while i<len(a):\n",
    "        sorted_list.append(a[i])\n",
    "        i+=1\n",
    "    while j<len(b):\n",
    "        sorted_list.append(b[j])\n",
    "        j+=1\n",
    "    return sorted_list\n",
    "if __name__==\"__main__\":\n",
    "    a=[12,67]\n",
    "    b=[1,10]\n",
    "    print(merge_sort(a,b))"
   ]
  },
  {
   "cell_type": "code",
   "execution_count": 2,
   "metadata": {},
   "outputs": [
    {
     "name": "stdout",
     "output_type": "stream",
     "text": [
      "[1, 10, 12, 67]\n"
     ]
    }
   ],
   "source": [
    "def mergesort(arr):\n",
    "    if len(arr)<=1:\n",
    "        return arr\n",
    "    mid=len(arr)//2\n",
    "    left=arr[:mid]\n",
    "    right=arr[mid:]\n",
    "    left=mergesort(left)\n",
    "    right=mergesort(right)\n",
    "    return merge_sort(left,right)\n",
    "def merge_sort(a,b):\n",
    "    sorted_list=[]\n",
    "    len_a=len(a)\n",
    "    len_b=len(b)\n",
    "    i=j=0\n",
    "    while i<len_a and j<len_b:\n",
    "        if a[i]<=b[j]:\n",
    "            sorted_list.append(a[i])\n",
    "            i+=1\n",
    "        else:\n",
    "            sorted_list.append(b[j])\n",
    "            j+=1\n",
    "    while i<len(a):\n",
    "        sorted_list.append(a[i])\n",
    "        i+=1\n",
    "    while j<len(b):\n",
    "        sorted_list.append(b[j])\n",
    "        j+=1\n",
    "    return sorted_list\n",
    "if __name__==\"__main__\":\n",
    "    a=[12,67]\n",
    "    b=[1,10]\n",
    "    print(merge_sort(a,b)) \n",
    "    arr=[12,23,67,34,89,78,56,100]"
   ]
  },
  {
   "cell_type": "code",
   "execution_count": 3,
   "metadata": {},
   "outputs": [
    {
     "name": "stdout",
     "output_type": "stream",
     "text": [
      "[12, 23, 67, 34, 89, 78, 56, 100]\n",
      "[10, 3, 15, 7, 8, 23, 98, 29]\n",
      "[]\n",
      "[3]\n",
      "[9, 8, 7, 2]\n",
      "[1, 2, 3, 4, 5]\n"
     ]
    }
   ],
   "source": [
    "def mergesort(arr):\n",
    "    if len(arr)<=1:\n",
    "        return arr\n",
    "    mid=len(arr)//2\n",
    "    left=arr[:mid]\n",
    "    right=arr[mid:]\n",
    "    mergesort(left)\n",
    "    mergesort(right)\n",
    "    merge_sort(left,right,arr)\n",
    "def merge_sort(a,b,arr):\n",
    "    len_a=len(a)\n",
    "    len_b=len(b)\n",
    "    i=j=k=0\n",
    "    while i<len_a and j<len_b:\n",
    "        if a[i]<=b[j]:\n",
    "            arr[k]=a[i]\n",
    "            i+=1\n",
    "            k+=1\n",
    "        else:\n",
    "            arr[k]=b[j]\n",
    "            j+=1\n",
    "            k+=1\n",
    "    while i<len(a):\n",
    "        arr[k]=a[i]\n",
    "        i+=1\n",
    "    while j<len(b):\n",
    "        arr[k]=b[j]\n",
    "        j+=1\n",
    "        k+=1\n",
    "if __name__==\"__main__\":\n",
    "    arr=[12,23,67,34,89,78,56,100]\n",
    "    print(arr)\n",
    "    test_cases = [\n",
    "        [10, 3, 15, 7, 8, 23, 98, 29],\n",
    "        [],\n",
    "        [3],\n",
    "        [9,8,7,2],\n",
    "        [1,2,3,4,5]\n",
    "    ]\n",
    "\n",
    "    for arr in test_cases:\n",
    "        print(arr)"
   ]
  },
  {
   "cell_type": "code",
   "execution_count": 4,
   "metadata": {},
   "outputs": [
    {
     "name": "stdout",
     "output_type": "stream",
     "text": [
      "[{'name': 'rajab', 'age': 12, 'time_hours': 3}, {'name': 'vignesh', 'age': 21, 'time_hours': 2.5}, {'name': 'chinmay', 'age': 24, 'time_hours': 1.5}, {'name': 'vedanth', 'age': 17, 'time_hours': 1}]\n"
     ]
    }
   ],
   "source": [
    "def merge_sort(elements, key, descending=False):\n",
    "    size = len(elements)\n",
    "\n",
    "    if size == 1:\n",
    "        return elements\n",
    "\n",
    "    left_list = merge_sort(elements[0:size//2], key, descending)\n",
    "    right_list = merge_sort(elements[size//2:], key, descending)\n",
    "    sorted_list = merge(left_list, right_list, key, descending)\n",
    "\n",
    "    return sorted_list\n",
    "\n",
    "    \n",
    "def merge(left_list, right_list, key, descending=False):\n",
    "    merged = []\n",
    "    if descending:\n",
    "        while len(left_list) > 0 and len(right_list) > 0:\n",
    "            if left_list[0][key] >= right_list[0][key]:\n",
    "                merged.append(left_list.pop(0))\n",
    "            else:\n",
    "                merged.append(right_list.pop(0))\n",
    "\n",
    "    else:\n",
    "        while len(left_list) > 0 and len(right_list) > 0:\n",
    "            if left_list[0][key] <= right_list[0][key]:\n",
    "                merged.append(left_list.pop(0))\n",
    "            else:\n",
    "                merged.append(right_list.pop(0))\n",
    "\n",
    "    merged.extend(left_list)\n",
    "    merged.extend(right_list)\n",
    "    return merged\n",
    "\n",
    "if __name__ == '__main__':\n",
    "    elements = [\n",
    "        { 'name': 'vedanth',   'age': 17, 'time_hours': 1},\n",
    "        { 'name': 'rajab', 'age': 12,  'time_hours': 3},\n",
    "        { 'name': 'vignesh',  'age': 21,  'time_hours': 2.5},\n",
    "        { 'name': 'chinmay',  'age': 24,  'time_hours': 1.5},\n",
    "    ]\n",
    "\n",
    "    sorted_list = merge_sort(elements, key='time_hours', descending=True)\n",
    "    print(sorted_list)"
   ]
  },
  {
   "cell_type": "code",
   "execution_count": null,
   "metadata": {},
   "outputs": [],
   "source": []
  }
 ],
 "metadata": {
  "kernelspec": {
   "display_name": "Python 3",
   "language": "python",
   "name": "python3"
  },
  "language_info": {
   "codemirror_mode": {
    "name": "ipython",
    "version": 3
   },
   "file_extension": ".py",
   "mimetype": "text/x-python",
   "name": "python",
   "nbconvert_exporter": "python",
   "pygments_lexer": "ipython3",
   "version": "3.8.5"
  }
 },
 "nbformat": 4,
 "nbformat_minor": 4
}

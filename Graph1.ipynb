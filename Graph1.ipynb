{
 "cells": [
  {
   "cell_type": "code",
   "execution_count": 1,
   "metadata": {},
   "outputs": [
    {
     "name": "stdout",
     "output_type": "stream",
     "text": [
      "Graph dict: {'Mumbai': ['Paris', 'Dubai'], 'Paris': ['Dubai', 'New York'], 'Dubai': ['New York'], 'New York': ['Toronto']}\n",
      "Paths between Mumbai and Mumbai: [['Mumbai']]\n",
      "Paths between Toronto and Mumbai: []\n",
      "Paths between Mumbai and New York: [['Mumbai', 'Paris', 'Dubai', 'New York'], ['Mumbai', 'Paris', 'New York'], ['Mumbai', 'Dubai', 'New York']]\n",
      "Paths between Mumbai and New York: ['Mumbai', 'Paris', 'New York']\n"
     ]
    }
   ],
   "source": [
    "class Graph:\n",
    "    def __init__(self,edges):\n",
    "        self.edges=edges\n",
    "        self.graph_dict={}\n",
    "        for start, end in self.edges:\n",
    "            if start in self.graph_dict:\n",
    "                self.graph_dict[start].append(end)\n",
    "            else:\n",
    "                self.graph_dict[start]=[end]\n",
    "        print(\"Graph dict:\", self.graph_dict)\n",
    "    def get_paths(self,start,end,path=[]):\n",
    "        path=path+[start]\n",
    "        if start==end:\n",
    "            return [path]\n",
    "        if start not in self.graph_dict:\n",
    "            return []\n",
    "        paths=[]\n",
    "        for node in self.graph_dict[start]:\n",
    "            if node not in path:\n",
    "                new_paths=self.get_paths(node,end,path)\n",
    "                for p in new_paths:\n",
    "                    paths.append(p)\n",
    "        return paths\n",
    "    def get_shortest_path(self,start,end,path=[]):\n",
    "        path=path+[start]\n",
    "        if start==end:\n",
    "            return path\n",
    "        if start not in self.graph_dict:\n",
    "            return None\n",
    "        shortest_path=None\n",
    "        for node in self.graph_dict[start]:\n",
    "            if node not in path:\n",
    "                sp=self.get_shortest_path(node,end,path)\n",
    "                if sp:\n",
    "                    if shortest_path is None or len(sp)<len(shortest_path):\n",
    "                        shortest_path=sp\n",
    "        return shortest_path\n",
    "\n",
    "if __name__==\"__main__\":\n",
    "    routes=[\n",
    "        (\"Mumbai\",\"Paris\"),\n",
    "        (\"Mumbai\",\"Dubai\"),\n",
    "        (\"Paris\",\"Dubai\"),\n",
    "        (\"Paris\",\"New York\"),\n",
    "        (\"Dubai\",\"New York\"),\n",
    "        (\"New York\",\"Toronto\")\n",
    "    ]\n",
    "    route_graph=Graph(routes)\n",
    "    d={\n",
    "    \"Mumbai\":[\"Paris\",\"Dubai\"],\n",
    "    \"Paris\":[\"Dubai\",\"New York\"]\n",
    "    }\n",
    "    start=\"Mumbai\"\n",
    "    end=\"Mumbai\"\n",
    "    start1=\"Toronto\"\n",
    "    end1=\"Mumbai\"\n",
    "    start2=\"Mumbai\"\n",
    "    end2=\"New York\"\n",
    "    print(f\"Paths between {start} and {end}:\",route_graph.get_paths(start,end))\n",
    "    print(f\"Paths between {start1} and {end1}:\",route_graph.get_paths(start1,end1))\n",
    "    print(f\"Paths between {start2} and {end2}:\",route_graph.get_paths(start2,end2))\n",
    "    print(f\"Paths between {start2} and {end2}:\",route_graph.get_shortest_path(start2,end2))"
   ]
  },
  {
   "cell_type": "code",
   "execution_count": null,
   "metadata": {},
   "outputs": [],
   "source": []
  }
 ],
 "metadata": {
  "kernelspec": {
   "display_name": "Python 3",
   "language": "python",
   "name": "python3"
  },
  "language_info": {
   "codemirror_mode": {
    "name": "ipython",
    "version": 3
   },
   "file_extension": ".py",
   "mimetype": "text/x-python",
   "name": "python",
   "nbconvert_exporter": "python",
   "pygments_lexer": "ipython3",
   "version": "3.8.5"
  }
 },
 "nbformat": 4,
 "nbformat_minor": 4
}

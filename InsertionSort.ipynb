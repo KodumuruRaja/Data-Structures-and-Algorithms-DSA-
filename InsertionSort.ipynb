{
 "cells": [
  {
   "cell_type": "code",
   "execution_count": 1,
   "metadata": {},
   "outputs": [
    {
     "name": "stdout",
     "output_type": "stream",
     "text": [
      "[12, 18, 24, 34, 69, 82]\n",
      "[2, 7, 9, 11, 15, 28, 29]\n",
      "[3, 7, 9, 11]\n",
      "[10, 21, 22, 25]\n",
      "[15, 28, 29]\n",
      "[]\n",
      "[6]\n"
     ]
    }
   ],
   "source": [
    "def insertion_sort(elements):\n",
    "    for i in range(1,len(elements)):\n",
    "        anchor=elements[i]\n",
    "        j=i-1\n",
    "        while j>=0 and anchor<elements[j]:\n",
    "            elements[j+1]=elements[j]\n",
    "            j=j-1\n",
    "        elements[j+1]=anchor\n",
    "if __name__==\"__main__\":\n",
    "    elements=[24,12,18,34,69,82]\n",
    "    insertion_sort(elements)\n",
    "    print(elements)\n",
    "    tests = [\n",
    "        [11,9,29,7,2,15,28],\n",
    "        [3, 7, 9, 11],\n",
    "        [25, 22, 21, 10],\n",
    "        [29, 15, 28],\n",
    "        [],\n",
    "        [6]\n",
    "    ]\n",
    "\n",
    "    for elements in tests:\n",
    "        insertion_sort(elements)\n",
    "        print(elements)"
   ]
  },
  {
   "cell_type": "code",
   "execution_count": null,
   "metadata": {},
   "outputs": [],
   "source": []
  },
  {
   "cell_type": "code",
   "execution_count": 2,
   "metadata": {},
   "outputs": [
    {
     "name": "stdout",
     "output_type": "stream",
     "text": [
      "[0, 1, 2, 2, 5, 5, 7]\n"
     ]
    }
   ],
   "source": [
    "def insertion_sort(elements):\n",
    "    for i in range(1,len(elements)):\n",
    "        anchor=elements[i]\n",
    "        j=i-1\n",
    "        while j>=0 and anchor<elements[j]:\n",
    "            elements[j+1]=elements[j]\n",
    "            j=j-1\n",
    "        elements[j+1]=anchor\n",
    "if __name__==\"__main__\":\n",
    "    elements=[2,1,5,7,2,0,5]\n",
    "    insertion_sort(elements)\n",
    "    print(elements)"
   ]
  },
  {
   "cell_type": "code",
   "execution_count": null,
   "metadata": {},
   "outputs": [
    {
     "name": "stdout",
     "output_type": "stream",
     "text": [
      "2\n",
      "Median of [2] : 2\n"
     ]
    }
   ],
   "source": [
    "def place_to_insert(array, key):\n",
    "    index = 0\n",
    "    for i in array:\n",
    "        if i > key:\n",
    "            break\n",
    "        else:\n",
    "            index += 1\n",
    "    return index\n",
    "\n",
    "\n",
    "def insert_to_sorted(array, key):\n",
    "    index = place_to_insert(array, key)\n",
    "    return array[0:index]+[key]+array[index:]\n",
    "\n",
    "\n",
    "if __name__ == \"__main__\":\n",
    "    array = [2, 1, 5, 7, 2, 0, 5]\n",
    "\n",
    "    stream = []\n",
    "\n",
    "    count = 0\n",
    "    while(True):\n",
    "        i = int(input())\n",
    "        count += 1\n",
    "        stream = insert_to_sorted(stream, i)\n",
    "        if count % 2 == 1:\n",
    "            print(f\"Median of {stream} : {stream[(count)//2]}\")\n",
    "        else:\n",
    "            i1 = count//2\n",
    "            i2 = (count//2) - 1\n",
    "            print(f\"Median of {stream} : {(stream[i1] + stream[i2])/2}\")"
   ]
  },
  {
   "cell_type": "code",
   "execution_count": null,
   "metadata": {},
   "outputs": [],
   "source": []
  }
 ],
 "metadata": {
  "kernelspec": {
   "display_name": "Python 3",
   "language": "python",
   "name": "python3"
  },
  "language_info": {
   "codemirror_mode": {
    "name": "ipython",
    "version": 3
   },
   "file_extension": ".py",
   "mimetype": "text/x-python",
   "name": "python",
   "nbconvert_exporter": "python",
   "pygments_lexer": "ipython3",
   "version": "3.8.5"
  }
 },
 "nbformat": 4,
 "nbformat_minor": 4
}

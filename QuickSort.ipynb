{
 "cells": [
  {
   "cell_type": "code",
   "execution_count": 1,
   "metadata": {},
   "outputs": [
    {
     "name": "stdout",
     "output_type": "stream",
     "text": [
      "[2, 4, 5, 7, 8, 9, 10, 11, 16, 20, 26]\n",
      "[2, 7, 9, 11, 15, 28, 29]\n",
      "[3, 7, 9, 11]\n",
      "[10, 21, 22, 25]\n",
      "[15, 28, 29]\n",
      "[]\n",
      "[6]\n"
     ]
    }
   ],
   "source": [
    "def swap(a,b,arr):\n",
    "    if a!=b:\n",
    "        temp=arr[a]\n",
    "        arr[a]=arr[b]\n",
    "        arr[b]=temp\n",
    "def partition(elements,start,end):\n",
    "    index=start\n",
    "    pivot=elements[index]\n",
    "    while start<end:\n",
    "        while start<len(elements) and elements[start]<=pivot:\n",
    "            start+=1\n",
    "        while elements[end]>pivot:\n",
    "            end-=1\n",
    "        if start<end:\n",
    "            swap(start,end,elements)\n",
    "    swap(index,end,elements)\n",
    "    return end\n",
    "def quicksort(elements,start,end):\n",
    "    if start<end:\n",
    "        pi=partition(elements,start,end)\n",
    "        quicksort(elements,start,pi-1)\n",
    "        quicksort(elements,pi+1,end)\n",
    "if __name__==\"__main__\":\n",
    "    elements=[11,10,9,20,8,4,2,16,26,7,5]\n",
    "    quicksort(elements,0,len(elements)-1)\n",
    "    print(elements)\n",
    "    tests = [\n",
    "        [11,9,29,7,2,15,28],\n",
    "        [3, 7, 9, 11],\n",
    "        [25, 22, 21, 10],\n",
    "        [29, 15, 28],\n",
    "        [],\n",
    "        [6]\n",
    "    ]\n",
    "    for elements in tests:\n",
    "        quicksort(elements,0,len(elements)-1)\n",
    "        print(elements)"
   ]
  },
  {
   "cell_type": "code",
   "execution_count": 2,
   "metadata": {},
   "outputs": [
    {
     "name": "stdout",
     "output_type": "stream",
     "text": [
      "[2, 7, 9, 11, 15, 28, 29]\n",
      "[3, 7, 9, 11]\n",
      "[10, 21, 22, 25]\n",
      "[15, 28, 29]\n",
      "[]\n",
      "[6]\n"
     ]
    }
   ],
   "source": [
    "def swap(a, b, arr):\n",
    "    if a!=b:\n",
    "        tmp = arr[a]\n",
    "        arr[a] = arr[b]\n",
    "        arr[b] = tmp\n",
    "\n",
    "def quick_sort(elements, start, end):\n",
    "    if len(elements)== 1:\n",
    "        return\n",
    "    if start < end:\n",
    "        pi = partition(elements, start, end)\n",
    "        quick_sort(elements, start, pi-1)\n",
    "        quick_sort(elements, pi+1, end)\n",
    "\n",
    "def partition(elements, start, end):\n",
    "    pivot = elements[end]\n",
    "    p_index = start\n",
    "\n",
    "    for i in range(start, end):\n",
    "        if elements[i] <= pivot:\n",
    "            swap(i, p_index, elements)\n",
    "            p_index += 1\n",
    "\n",
    "    swap(p_index, end, elements)\n",
    "\n",
    "    return p_index\n",
    "\n",
    "\n",
    "if __name__ == '__main__':\n",
    "    tests = [\n",
    "        [11,9,29,7,2,15,28],\n",
    "        [3, 7, 9, 11],\n",
    "        [25, 22, 21, 10],\n",
    "        [29, 15, 28],\n",
    "        [],\n",
    "        [6]\n",
    "    ]\n",
    "    # elements = [\"mona\", \"dhaval\", \"aamir\", \"tina\", \"chang\"]\n",
    "\n",
    "    for elements in tests:\n",
    "        quick_sort(elements, 0, len(elements)-1)\n",
    "        print(elements)"
   ]
  },
  {
   "cell_type": "code",
   "execution_count": null,
   "metadata": {},
   "outputs": [],
   "source": []
  }
 ],
 "metadata": {
  "kernelspec": {
   "display_name": "Python 3",
   "language": "python",
   "name": "python3"
  },
  "language_info": {
   "codemirror_mode": {
    "name": "ipython",
    "version": 3
   },
   "file_extension": ".py",
   "mimetype": "text/x-python",
   "name": "python",
   "nbconvert_exporter": "python",
   "pygments_lexer": "ipython3",
   "version": "3.8.5"
  }
 },
 "nbformat": 4,
 "nbformat_minor": 4
}

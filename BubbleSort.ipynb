{
 "cells": [
  {
   "cell_type": "code",
   "execution_count": 1,
   "metadata": {},
   "outputs": [
    {
     "name": "stdout",
     "output_type": "stream",
     "text": [
      "[1, 12, 25, 33, 37, 47, 64, 82, 99]\n"
     ]
    }
   ],
   "source": [
    "def bubble_sort(elements):\n",
    "    size=len(elements)\n",
    "    for k in range(len(elements)):\n",
    "        for i in range(size-1):\n",
    "            if elements[i] > elements[i+1]:\n",
    "                temp=elements[i]\n",
    "                elements[i]=elements[i+1]\n",
    "                elements[i+1]=temp\n",
    "if __name__ ==\"__main__\":\n",
    "    elements=[1,12,37,25,99,64,33,47,82]\n",
    "    bubble_sort(elements)\n",
    "    print(elements)"
   ]
  },
  {
   "cell_type": "code",
   "execution_count": 2,
   "metadata": {},
   "outputs": [
    {
     "name": "stdout",
     "output_type": "stream",
     "text": [
      "[1, 12, 25, 33, 37, 47, 64, 82, 99]\n"
     ]
    }
   ],
   "source": [
    "def bubble_sort(elements):\n",
    "    size=len(elements)\n",
    "    for i in range(size-1):\n",
    "        for j in range(size-1):\n",
    "            if elements[j] > elements[j+1]:\n",
    "                temp=elements[j]\n",
    "                elements[j]=elements[j+1]\n",
    "                elements[j+1]=temp\n",
    "if __name__ ==\"__main__\":\n",
    "    elements=[1,12,37,25,99,64,33,47,82]\n",
    "    bubble_sort(elements)\n",
    "    print(elements)"
   ]
  },
  {
   "cell_type": "code",
   "execution_count": 3,
   "metadata": {},
   "outputs": [
    {
     "name": "stdout",
     "output_type": "stream",
     "text": [
      "[1, 12, 25, 33, 37, 47, 64, 82, 99]\n"
     ]
    }
   ],
   "source": [
    "def bubble_sort(elements):\n",
    "    size=len(elements)\n",
    "    for i in range(size-1):\n",
    "        for j in range(size-1-i):\n",
    "            if elements[j] > elements[j+1]:\n",
    "                temp=elements[j]\n",
    "                elements[j]=elements[j+1]\n",
    "                elements[j+1]=temp\n",
    "if __name__ ==\"__main__\":\n",
    "    elements=[1,12,37,25,99,64,33,47,82]\n",
    "    bubble_sort(elements)\n",
    "    print(elements)"
   ]
  },
  {
   "cell_type": "code",
   "execution_count": 4,
   "metadata": {},
   "outputs": [
    {
     "name": "stdout",
     "output_type": "stream",
     "text": [
      "[1, 12, 37, 25, 99, 64, 33, 47, 82]\n"
     ]
    }
   ],
   "source": [
    "def bubble_sort(elements):\n",
    "    size=len(elements)\n",
    "    for i in range(size-1):\n",
    "        swapped=False\n",
    "        for j in range(size-1-i):\n",
    "            if elements[j] > elements[j+1]:\n",
    "                temp=elements[j]\n",
    "                elements[j]=elements[j+1]\n",
    "                elements[j+1]=temp\n",
    "                swapped=True\n",
    "            if not swapped:\n",
    "                break\n",
    "if __name__ ==\"__main__\":\n",
    "    elements=[1,12,37,25,99,64,33,47,82]\n",
    "    bubble_sort(elements)\n",
    "    print(elements)"
   ]
  },
  {
   "cell_type": "code",
   "execution_count": 5,
   "metadata": {},
   "outputs": [
    {
     "name": "stdout",
     "output_type": "stream",
     "text": [
      "['Dharani', 'Madhuri', 'Niveditha', 'Raja']\n"
     ]
    }
   ],
   "source": [
    "def bubble_sort(elements):\n",
    "    size=len(elements)\n",
    "    for i in range(size-1):\n",
    "        for j in range(size-1-i):\n",
    "            if elements[j] > elements[j+1]:\n",
    "                temp=elements[j]\n",
    "                elements[j]=elements[j+1]\n",
    "                elements[j+1]=temp\n",
    "if __name__ ==\"__main__\":\n",
    "    elements=[\"Niveditha\",\"Raja\",\"Madhuri\",\"Dharani\"]\n",
    "    bubble_sort(elements)\n",
    "    print(elements)"
   ]
  },
  {
   "cell_type": "code",
   "execution_count": 6,
   "metadata": {},
   "outputs": [
    {
     "name": "stdout",
     "output_type": "stream",
     "text": [
      "[{'name': 'kathy', 'transaction_amount': 200, 'device': 'vivo'}, {'name': 'dhaval', 'transaction_amount': 400, 'device': 'google pixel'}, {'name': 'aamir', 'transaction_amount': 800, 'device': 'iphone-8'}, {'name': 'mona', 'transaction_amount': 1000, 'device': 'iphone-10'}]\n"
     ]
    }
   ],
   "source": [
    "def BubbleSort(elements,key=None):\n",
    "    for i in range(len(elements)-1):\n",
    "        for j in range(len(elements)-1-i):\n",
    "            a=elements[j][key]\n",
    "            b=elements[j+1][key]\n",
    "            if a>b:\n",
    "                temp=elements[j]\n",
    "                elements[j]=elements[j+1]\n",
    "                elements[j+1]=temp\n",
    "if __name__==\"__main__\":\n",
    "    elements = [\n",
    "        { 'name': 'mona',   'transaction_amount': 1000, 'device': 'iphone-10'},\n",
    "        { 'name': 'dhaval', 'transaction_amount': 400,  'device': 'google pixel'},\n",
    "        { 'name': 'kathy',  'transaction_amount': 200,  'device': 'vivo'},\n",
    "        { 'name': 'aamir',  'transaction_amount': 800,  'device': 'iphone-8'},\n",
    "    ]\n",
    "    BubbleSort(elements,key='transaction_amount')\n",
    "    print(elements)"
   ]
  },
  {
   "cell_type": "code",
   "execution_count": null,
   "metadata": {},
   "outputs": [],
   "source": []
  }
 ],
 "metadata": {
  "kernelspec": {
   "display_name": "Python 3",
   "language": "python",
   "name": "python3"
  },
  "language_info": {
   "codemirror_mode": {
    "name": "ipython",
    "version": 3
   },
   "file_extension": ".py",
   "mimetype": "text/x-python",
   "name": "python",
   "nbconvert_exporter": "python",
   "pygments_lexer": "ipython3",
   "version": "3.8.5"
  }
 },
 "nbformat": 4,
 "nbformat_minor": 4
}
